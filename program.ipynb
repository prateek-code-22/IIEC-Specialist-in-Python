{
 "cells": [
  {
   "cell_type": "markdown",
   "metadata": {},
   "source": [
    "# READ TEXT AS INPUT AND OPEN PARTICULAR SOFTWARE."
   ]
  },
  {
   "cell_type": "raw",
   "metadata": {},
   "source": [
    " Made this program user interactive by adding speak function of pyttsx3 module.\n",
    " Program starts with the welcome message and says thank you at the end of successfull execution.\n",
    " If you entered wrong query it will display and speak please check your query again.\n",
    " If you enter nothing it will show empty query.\n",
    " You can type \"exit\" to end the program. "
   ]
  },
  {
   "cell_type": "code",
   "execution_count": 12,
   "metadata": {},
   "outputs": [
    {
     "name": "stdout",
     "output_type": "stream",
     "text": [
      "Hello, which software you want to open\n",
      "You can also send mail and whatsapp message to anyone!\n",
      "NOTE: Please include words like RUN, LAUNCH or OPEN with the software name in your query\n",
      "\n",
      "\n",
      "LIST OF SOFTWARE YOU CAN OPEN\n",
      "1.Google chrome \t\t  2.Notepad   \t\t 3.Vlc player\n",
      "4.Calculator    \t\t  5.Calendar  \t\t 6.Windows media player\n",
      "7.Cmd           \t\t  8.Paint     \t\t 9.VScode              \n"
     ]
    },
    {
     "name": "stdin",
     "output_type": "stream",
     "text": [
      " jk bdnskjc\n"
     ]
    },
    {
     "name": "stdout",
     "output_type": "stream",
     "text": [
      "Sorry! please check your query again\n"
     ]
    }
   ],
   "source": [
    "import os\n",
    "import pyttsx3\n",
    "\n",
    "print(\"Hello, which software you want to open\")\n",
    "pyttsx3.speak(\"Hello, which software you want to open\")\n",
    "print(\"You can also send mail and whatsapp message to anyone!\")\n",
    "print(\"NOTE: Please include words like RUN, LAUNCH or OPEN with the software name in your query\")\n",
    "print()\n",
    "print()\n",
    "print(\"LIST OF SOFTWARE YOU CAN OPEN\")\n",
    "print(\"1.Google chrome \\t\\t  2.Notepad   \\t\\t 3.Vlc player\")\n",
    "print(\"4.Calculator    \\t\\t  5.Calendar  \\t\\t 6.Windows media player\")\n",
    "print(\"7.Cmd           \\t\\t  8.Paint     \\t\\t 9.VScode              \")\n",
    "\n",
    "\n",
    "query = input(\"\")\n",
    "lenstr = len(query)\n",
    "\n",
    "query = query.lower()\n",
    "\n",
    "if lenstr != 0:\n",
    "    \n",
    "    if (\"run\" in query) or (\"open\" in query) or (\"launch\" in query) or (\"send\" in query):\n",
    "        \n",
    "            if \"chrome\" in query:\n",
    "                print(\"Opening google chrome...\")\n",
    "                pyttsx3.speak(\"Opening google chrome...\")\n",
    "                ret = os.system(\"start chrome\")\n",
    "                if ret == 0:\n",
    "                    pyttsx3.speak(\"Thank you!\")\n",
    "        \n",
    "            elif \"notepad\" in query:\n",
    "                print(\"Launching Notepad...\")\n",
    "                pyttsx3.speak(\"Launching Notepad...\")\n",
    "                ret = os.system(\"Notepad\")\n",
    "                if ret == 0:\n",
    "                    pyttsx3.speak(\"Thank you!\")\n",
    "    \n",
    "            elif \"calculator\" in query:\n",
    "                print(\"starting Calculator...\")\n",
    "                pyttsx3.speak(\"starting Calculator...\")\n",
    "                ret = os.system(\"calc\")\n",
    "                if ret == 0:\n",
    "                    pyttsx3.speak(\"Thank you!\")\n",
    "                \n",
    "            elif \"vlc\" in query:\n",
    "                print(\"Launching VLC player...\")\n",
    "                pyttsx3.speak(\"Launching vlc player\")\n",
    "                ret = os.system(\"vlc\")\n",
    "                if ret == 0:\n",
    "                    pyttsx3.speak(\"Thank you!\")\n",
    "                    \n",
    "            elif \"calendar\" in query:\n",
    "                print(\"Launching Calendar...\")\n",
    "                pyttsx3.speak(\"Launching Calendar...\")\n",
    "                ret = os.system(\"outlookcal\")\n",
    "                if ret == 0:\n",
    "                    pyttsx3.speak(\"Thank you!\")\n",
    "                    \n",
    "            elif (\"windows\" in query) and (\"media\" in query) and (\"player\" in query):\n",
    "                print(\"Launching Windows media player...\")\n",
    "                pyttsx3.speak(\"Launching windows media player...\")\n",
    "                ret = os.system(\"wmplayer\")\n",
    "                if ret == 0:\n",
    "                    pyttsx3.speak(\"Thank you!\")\n",
    "                    \n",
    "            elif \"cmd\" in query:\n",
    "                print(\"Launching command prompt...\")\n",
    "                pyttsx3.speak(\"Launching command prompt...\")\n",
    "                ret = os.system(\"cmd\")\n",
    "                if ret == 0:\n",
    "                    pyttsx3.speak(\"Thank you!\")\n",
    "                    \n",
    "            elif \"paint\" in query:\n",
    "                print(\"Launching paint...\")\n",
    "                pyttsx3.speak(\"Launching Paint...\")\n",
    "                ret = os.system(\"start Paint\")\n",
    "                if ret == 0:\n",
    "                    pyttsx3.speak(\"Thank you!\")\n",
    "                    \n",
    "            elif \"vscode\" in query:\n",
    "                print(\"Launching VScode...\")\n",
    "                pyttsx3.speak(\"Launching VScode...\")\n",
    "                ret = os.system(\"code\")\n",
    "                if ret == 0:\n",
    "                    pyttsx3.speak(\"Thank you!\")\n",
    "                    \n",
    "            elif (\"email\" in query) or (\"gmail\" in query) or (\"mail\" in query):\n",
    "                print(\"Launching Gmail...\")\n",
    "                pyttsx3.speak(\"Launching Gmail...\")\n",
    "                ret = os.system(\"start chrome www.gmail.com\")\n",
    "                if ret == 0:\n",
    "                    pyttsx3.speak(\"Thank you!\")\n",
    "                    \n",
    "            elif (\"whatsapp\" in query) or (\"message\" in query):\n",
    "                print(\"Launching Whatsapp  Web...\")\n",
    "                pyttsx3.speak(\"Launching Whatsapp web...\")\n",
    "                ret = os.system(\"start chrome web.whatsapp.com\")\n",
    "                if ret == 0:\n",
    "                    pyttsx3.speak(\"Thank you!\")\n",
    "                    \n",
    "            elif \"exit\" in query:\n",
    "                print(\"Thank you!\")\n",
    "                pyttsx3.speak(\"Thank you!\")\n",
    "        \n",
    "            else:\n",
    "                print(\"Software NOT FOUND\")\n",
    "                pyttsx3.speak(\"Software NOT FOUND\")\n",
    "    else:\n",
    "        print(\"Sorry! please check your query again\")\n",
    "        pyttsx3.speak(\"Sorry! please check your query again\")\n",
    "        \n",
    "else:\n",
    "    print(\"It is empty query!\")\n",
    "    pyttsx3.speak(\"It is empty query\")"
   ]
  },
  {
   "cell_type": "raw",
   "metadata": {},
   "source": []
  },
  {
   "cell_type": "code",
   "execution_count": null,
   "metadata": {},
   "outputs": [],
   "source": []
  }
 ],
 "metadata": {
  "kernelspec": {
   "display_name": "Python 3",
   "language": "python",
   "name": "python3"
  },
  "language_info": {
   "codemirror_mode": {
    "name": "ipython",
    "version": 3
   },
   "file_extension": ".py",
   "mimetype": "text/x-python",
   "name": "python",
   "nbconvert_exporter": "python",
   "pygments_lexer": "ipython3",
   "version": "3.8.2"
  }
 },
 "nbformat": 4,
 "nbformat_minor": 4
}
