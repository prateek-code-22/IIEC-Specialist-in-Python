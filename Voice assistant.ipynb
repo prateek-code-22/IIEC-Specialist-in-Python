{
 "cells": [
  {
   "cell_type": "markdown",
   "metadata": {},
   "source": [
    "# Recognize speech and open application in system"
   ]
  },
  {
   "cell_type": "raw",
   "metadata": {},
   "source": [
    "INSTRUCTIONS: \n",
    "    1.Just give voice input\n",
    "    2.It will print and speak the query and process going on.\n",
    "    3.It will open particular software/application.\n",
    "    4.This program opens applications are: \n",
    "        1. Google chrome\n",
    "        2. Notepad\n",
    "        3. Calculator\n",
    "        4. Command prompt / cmd\n",
    "        5. VsCode\n",
    "        6. Calendar\n",
    "        7. Vlc player\n",
    "        8. Whatsapp web\n",
    "        9. Gmail\n",
    "        10.Paint\n",
    "    "
   ]
  },
  {
   "cell_type": "code",
   "execution_count": 13,
   "metadata": {},
   "outputs": [
    {
     "name": "stdout",
     "output_type": "stream",
     "text": [
      "Hi what you want to open\n",
      "speech done!\n"
     ]
    }
   ],
   "source": [
    "import pyttsx3\n",
    "import speech_recognition as sr\n",
    "import os\n",
    "\n",
    "r = sr.Recognizer()\n",
    "\n",
    "with sr.Microphone() as source:\n",
    "    print(\"Hi what you want to open\")\n",
    "    pyttsx3.speak(\"Hi what you to open\")\n",
    "    audio = r.listen(source)\n",
    "    print(\"speech done!\")\n"
   ]
  },
  {
   "cell_type": "code",
   "execution_count": 14,
   "metadata": {},
   "outputs": [
    {
     "name": "stdout",
     "output_type": "stream",
     "text": [
      "Entered Query:  open calculator for me\n",
      "starting Calculator...\n"
     ]
    }
   ],
   "source": [
    "text = r.recognize_google(audio)\n",
    "print(\"Entered Query: \",text)\n",
    "\n",
    "text = text.lower()\n",
    "\n",
    "if (\"run\" in text) or (\"open\" in text) or (\"launch\" in text) or (\"send\" in text):\n",
    "        \n",
    "            if \"chrome\" in text:\n",
    "                print(\"Opening google chrome...\")\n",
    "                pyttsx3.speak(\"Opening google chrome...\")\n",
    "                os.system(\"start chrome\")\n",
    "    \n",
    "            elif \"notepad\" in text:\n",
    "                print(\"Launching Notepad...\")\n",
    "                pyttsx3.speak(\"Launching Notepad...\")\n",
    "                os.system(\"Notepad\")\n",
    "    \n",
    "            elif \"calculator\" in text:\n",
    "                print(\"starting Calculator...\")\n",
    "                pyttsx3.speak(\"starting Calculator...\")\n",
    "                os.system(\"calc\")\n",
    "                \n",
    "            elif \"vlc\" in text:\n",
    "                print(\"Launching VLC player...\")\n",
    "                pyttsx3.speak(\"Launching vlc player\")\n",
    "                os.system(\"vlc\")\n",
    "                    \n",
    "            elif \"calendar\" in text:\n",
    "                print(\"Launching Calendar...\")\n",
    "                pyttsx3.speak(\"Launching Calendar...\")\n",
    "                os.system(\"outlookcal\")\n",
    "                    \n",
    "            elif (\"windows\" in text) and (\"media\" in text) and (\"player\" in text):\n",
    "                print(\"Launching Windows media player...\")\n",
    "                pyttsx3.speak(\"Launching windows media player...\")\n",
    "                os.system(\"wmplayer\")\n",
    "                \n",
    "                    \n",
    "            elif \"cmd\" in text:\n",
    "                print(\"Launching command prompt...\")\n",
    "                pyttsx3.speak(\"Launching command prompt...\")\n",
    "                os.system(\"cmd\")\n",
    "                \n",
    "                    \n",
    "            elif \"paint\" in text:\n",
    "                print(\"Launching paint...\")\n",
    "                pyttsx3.speak(\"Launching Paint...\")\n",
    "                os.system(\"start Paint\")\n",
    "                \n",
    "                    \n",
    "            elif \"vscode\" in text:\n",
    "                print(\"Launching VScode...\")\n",
    "                pyttsx3.speak(\"Launching VScode...\")\n",
    "                os.system(\"code\")\n",
    "                    \n",
    "            elif (\"email\" in text) or (\"gmail\" in text) or (\"mail\" in text):\n",
    "                print(\"Launching Gmail...\")\n",
    "                pyttsx3.speak(\"Launching Gmail...\")\n",
    "                os.system(\"start chrome www.gmail.com\")\n",
    "            \n",
    "            elif (\"whatsapp\" in text) or (\"message\" in text):\n",
    "                print(\"Launching Whatsapp  Web...\")\n",
    "                pyttsx3.speak(\"Launching Whatsapp web...\")\n",
    "                os.system(\"start chrome web.whatsapp.com\")\n",
    "                    \n",
    "            elif \"exit\" in text:\n",
    "                print(\"Thank you!\")\n",
    "                pyttsx3.speak(\"Thank you!\")\n",
    "        \n",
    "            else:\n",
    "                print(\"Software NOT FOUND\")\n",
    "                pyttsx3.speak(\"Software NOT FOUND\")\n",
    "                \n",
    "else:\n",
    "    print(\"Program terminated\")\n",
    "    "
   ]
  },
  {
   "cell_type": "code",
   "execution_count": 9,
   "metadata": {},
   "outputs": [
    {
     "data": {
      "text/plain": [
       "<speech_recognition.AudioData at 0x252f20d1f70>"
      ]
     },
     "execution_count": 9,
     "metadata": {},
     "output_type": "execute_result"
    }
   ],
   "source": [
    "# audio.frame_data Shows the binaryform of audio.\n",
    "type(audio)\n",
    "audio"
   ]
  },
  {
   "cell_type": "code",
   "execution_count": null,
   "metadata": {},
   "outputs": [],
   "source": []
  }
 ],
 "metadata": {
  "kernelspec": {
   "display_name": "Python 3",
   "language": "python",
   "name": "python3"
  },
  "language_info": {
   "codemirror_mode": {
    "name": "ipython",
    "version": 3
   },
   "file_extension": ".py",
   "mimetype": "text/x-python",
   "name": "python",
   "nbconvert_exporter": "python",
   "pygments_lexer": "ipython3",
   "version": "3.8.3"
  }
 },
 "nbformat": 4,
 "nbformat_minor": 4
}
